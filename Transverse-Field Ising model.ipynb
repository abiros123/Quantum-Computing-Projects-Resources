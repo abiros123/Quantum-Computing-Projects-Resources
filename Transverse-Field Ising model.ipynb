{
 "cells": [
  {
   "cell_type": "markdown",
   "id": "3ce27316",
   "metadata": {},
   "source": [
    "We implement the Transverse-field Ising model, given by:\n",
    "\\begin{align}\n",
    "H = -\\sum_i^{N-1}\\sigma_i^{x}\\sigma_{i+1}^{x} + a\\sum_i^N\\sigma_i^z\n",
    "\\end{align}\n",
    "where N is the number of particles and $a$ is some external field strength.  "
   ]
  },
  {
   "cell_type": "code",
   "execution_count": 1,
   "id": "92a5a2e0",
   "metadata": {},
   "outputs": [],
   "source": [
    "import numpy as np\n",
    "import sys\n",
    "sys.path.insert(0, r'C:\\Users\\22mos\\Documents\\GitHub\\Optical-Potential-Test')\n",
    "from graphics_Mostofa import plot_snapshots, plot_snapshots_by_section,plot_contour"
   ]
  },
  {
   "cell_type": "code",
   "execution_count": 2,
   "id": "b87ee492",
   "metadata": {},
   "outputs": [],
   "source": [
    "def ising_first_term(i, N):\n",
    "    \n",
    "    sigma_x = np.matrix('0 1; 1 0')\n",
    "    mat_array = np.zeros((N, 2, 2))\n",
    "    \n",
    "    for n in range(N):\n",
    "        if(n == i):\n",
    "#             print(n)\n",
    "            mat_array[n] = sigma_x \n",
    "        elif((n-1) == i):\n",
    "#             print(n)\n",
    "            mat_array[n] = sigma_x \n",
    "        else:\n",
    "#             print(n)\n",
    "            mat_array[n] = np.eye(2)\n",
    "        \n",
    "    out_prod = mat_array[0]\n",
    "    for n1 in range(N-1):\n",
    "        out_prod = np.kron(out_prod, mat_array[n1+1])\n",
    "        \n",
    "    return out_prod\n",
    "\n",
    "def ising_second_term(i, N, strength):\n",
    "    \n",
    "    sigma_z = np.matrix('1 0; 0 -1')\n",
    "    mat_array = np.zeros((N, 2, 2))\n",
    "    \n",
    "    for n in range(N):\n",
    "        if(n == i):\n",
    "            mat_array[n] = sigma_z \n",
    "        else:\n",
    "            mat_array[n] = np.eye(2)\n",
    "        \n",
    "    out_prod = mat_array[0]\n",
    "    for n1 in range(N-1):\n",
    "        out_prod = np.kron(out_prod, mat_array[n1+1])\n",
    "        \n",
    "    return out_prod * strength"
   ]
  },
  {
   "cell_type": "code",
   "execution_count": 14,
   "id": "ad1b1c6e",
   "metadata": {},
   "outputs": [],
   "source": [
    "def ising_Hamiltonian(N):\n",
    "    \n",
    "    \"\"\"\n",
    "    Input:\n",
    "    N -> Number of particles\n",
    "    \n",
    "    Output:\n",
    "    H -> Ising hamiltonian\n",
    "    \"\"\"\n",
    "    strength = 1\n",
    "    first_term = 0\n",
    "    second_term = 0\n",
    "    for n in range(N):\n",
    "        print(n)\n",
    "        if(n<N):\n",
    "            first_term += ising_first_term(n, N) \n",
    "        second_term += ising_second_term(n, N, strength) \n",
    "        \n",
    "    H = -first_term + second_term\n",
    "        \n",
    "    return H"
   ]
  },
  {
   "cell_type": "code",
   "execution_count": 15,
   "id": "ee64086b",
   "metadata": {},
   "outputs": [
    {
     "name": "stdout",
     "output_type": "stream",
     "text": [
      "0\n",
      "1\n",
      "2\n",
      "3\n",
      "4\n",
      "5\n",
      "6\n",
      "7\n",
      "8\n",
      "9\n"
     ]
    }
   ],
   "source": [
    "N = 10 \n",
    "axes = np.arange(0,2**N)\n",
    "H = ising_Hamiltonian(N)"
   ]
  },
  {
   "cell_type": "code",
   "execution_count": 16,
   "id": "821c6d87",
   "metadata": {
    "scrolled": true
   },
   "outputs": [
    {
     "name": "stdout",
     "output_type": "stream",
     "text": [
      "[[ 10.  -1.   0. ...   0.   0.   0.]\n",
      " [ -1.   8.  -1. ...   0.   0.   0.]\n",
      " [  0.  -1.   8. ...   0.   0.   0.]\n",
      " ...\n",
      " [  0.   0.   0. ...  -8.  -1.   0.]\n",
      " [  0.   0.   0. ...  -1.  -8.  -1.]\n",
      " [  0.   0.   0. ...   0.  -1. -10.]]\n"
     ]
    }
   ],
   "source": [
    "print(H)"
   ]
  },
  {
   "cell_type": "code",
   "execution_count": 19,
   "id": "17d69ccb",
   "metadata": {},
   "outputs": [
    {
     "data": {
      "image/png": "[encoded data removed]",
      "text/plain": [
       "<Figure size 400x400 with 2 Axes>"
      ]
     },
     "metadata": {},
     "output_type": "display_data"
    }
   ],
   "source": [
    "plot_contour(H, axes, axes, axes[0], axes[-1], axes[0], axes[-1], 0, 0, [100], level= 11, optical = False, multiple = False, cutoff = False)"
   ]
  },
  {
   "cell_type": "code",
   "execution_count": null,
   "id": "6df617f0",
   "metadata": {},
   "outputs": [],
   "source": []
  }
 ],
 "metadata": {
  "kernelspec": {
   "display_name": "Python 3 (ipykernel)",
   "language": "python",
   "name": "python3"
  },
  "language_info": {
   "codemirror_mode": {
    "name": "ipython",
    "version": 3
   },
   "file_extension": ".py",
   "mimetype": "text/x-python",
   "name": "python",
   "nbconvert_exporter": "python",
   "pygments_lexer": "ipython3",
   "version": "3.11.5"
  }
 },
 "nbformat": 4,
 "nbformat_minor": 5
}
